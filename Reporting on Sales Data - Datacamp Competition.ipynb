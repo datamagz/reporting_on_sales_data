{
 "cells": [
  {
   "cell_type": "markdown",
   "metadata": {},
   "source": [
    "# Competition - Reporting on Sales Data"
   ]
  },
  {
   "cell_type": "markdown",
   "metadata": {},
   "source": [
    "## 0. Load Library"
   ]
  },
  {
   "cell_type": "code",
   "execution_count": 14,
   "metadata": {},
   "outputs": [],
   "source": [
    "library(tidyverse)\n",
    "library(skimr)"
   ]
  },
  {
   "cell_type": "markdown",
   "metadata": {},
   "source": [
    "## Load Dataset"
   ]
  },
  {
   "cell_type": "code",
   "execution_count": 15,
   "metadata": {},
   "outputs": [
    {
     "data": {
      "text/html": [
       "<table class=\"dataframe\">\n",
       "<caption>A data.frame: 6 × 8</caption>\n",
       "<thead>\n",
       "\t<tr><th></th><th scope=col>date</th><th scope=col>warehouse</th><th scope=col>client_type</th><th scope=col>product_line</th><th scope=col>quantity</th><th scope=col>unit_price</th><th scope=col>total</th><th scope=col>payment</th></tr>\n",
       "\t<tr><th></th><th scope=col>&lt;chr&gt;</th><th scope=col>&lt;chr&gt;</th><th scope=col>&lt;chr&gt;</th><th scope=col>&lt;chr&gt;</th><th scope=col>&lt;int&gt;</th><th scope=col>&lt;dbl&gt;</th><th scope=col>&lt;dbl&gt;</th><th scope=col>&lt;chr&gt;</th></tr>\n",
       "</thead>\n",
       "<tbody>\n",
       "\t<tr><th scope=row>1</th><td>2021-06-01</td><td>Central</td><td>Retail   </td><td>Miscellaneous        </td><td> 8</td><td>16.85</td><td> 134.83</td><td>Credit card</td></tr>\n",
       "\t<tr><th scope=row>2</th><td>2021-06-01</td><td>North  </td><td>Retail   </td><td>Breaking system      </td><td> 9</td><td>19.29</td><td> 173.61</td><td>Cash       </td></tr>\n",
       "\t<tr><th scope=row>3</th><td>2021-06-01</td><td><span style=white-space:pre-wrap>North  </span></td><td><span style=white-space:pre-wrap>Retail   </span></td><td>Suspension &amp; traction</td><td> 8</td><td>32.93</td><td> 263.45</td><td>Credit card</td></tr>\n",
       "\t<tr><th scope=row>4</th><td>2021-06-01</td><td><span style=white-space:pre-wrap>North  </span></td><td>Wholesale</td><td><span style=white-space:pre-wrap>Frame &amp; body         </span></td><td>16</td><td>37.84</td><td> 605.44</td><td><span style=white-space:pre-wrap>Transfer   </span></td></tr>\n",
       "\t<tr><th scope=row>5</th><td>2021-06-01</td><td>Central</td><td>Retail   </td><td>Engine               </td><td> 2</td><td>60.48</td><td> 120.96</td><td>Credit card</td></tr>\n",
       "\t<tr><th scope=row>6</th><td>2021-06-01</td><td><span style=white-space:pre-wrap>North  </span></td><td>Wholesale</td><td>Suspension &amp; traction</td><td>40</td><td>37.37</td><td>1494.80</td><td><span style=white-space:pre-wrap>Transfer   </span></td></tr>\n",
       "</tbody>\n",
       "</table>\n"
      ],
      "text/latex": [
       "A data.frame: 6 × 8\n",
       "\\begin{tabular}{r|llllllll}\n",
       "  & date & warehouse & client\\_type & product\\_line & quantity & unit\\_price & total & payment\\\\\n",
       "  & <chr> & <chr> & <chr> & <chr> & <int> & <dbl> & <dbl> & <chr>\\\\\n",
       "\\hline\n",
       "\t1 & 2021-06-01 & Central & Retail    & Miscellaneous         &  8 & 16.85 &  134.83 & Credit card\\\\\n",
       "\t2 & 2021-06-01 & North   & Retail    & Breaking system       &  9 & 19.29 &  173.61 & Cash       \\\\\n",
       "\t3 & 2021-06-01 & North   & Retail    & Suspension \\& traction &  8 & 32.93 &  263.45 & Credit card\\\\\n",
       "\t4 & 2021-06-01 & North   & Wholesale & Frame \\& body          & 16 & 37.84 &  605.44 & Transfer   \\\\\n",
       "\t5 & 2021-06-01 & Central & Retail    & Engine                &  2 & 60.48 &  120.96 & Credit card\\\\\n",
       "\t6 & 2021-06-01 & North   & Wholesale & Suspension \\& traction & 40 & 37.37 & 1494.80 & Transfer   \\\\\n",
       "\\end{tabular}\n"
      ],
      "text/markdown": [
       "\n",
       "A data.frame: 6 × 8\n",
       "\n",
       "| <!--/--> | date &lt;chr&gt; | warehouse &lt;chr&gt; | client_type &lt;chr&gt; | product_line &lt;chr&gt; | quantity &lt;int&gt; | unit_price &lt;dbl&gt; | total &lt;dbl&gt; | payment &lt;chr&gt; |\n",
       "|---|---|---|---|---|---|---|---|---|\n",
       "| 1 | 2021-06-01 | Central | Retail    | Miscellaneous         |  8 | 16.85 |  134.83 | Credit card |\n",
       "| 2 | 2021-06-01 | North   | Retail    | Breaking system       |  9 | 19.29 |  173.61 | Cash        |\n",
       "| 3 | 2021-06-01 | North   | Retail    | Suspension &amp; traction |  8 | 32.93 |  263.45 | Credit card |\n",
       "| 4 | 2021-06-01 | North   | Wholesale | Frame &amp; body          | 16 | 37.84 |  605.44 | Transfer    |\n",
       "| 5 | 2021-06-01 | Central | Retail    | Engine                |  2 | 60.48 |  120.96 | Credit card |\n",
       "| 6 | 2021-06-01 | North   | Wholesale | Suspension &amp; traction | 40 | 37.37 | 1494.80 | Transfer    |\n",
       "\n"
      ],
      "text/plain": [
       "  date       warehouse client_type product_line          quantity unit_price\n",
       "1 2021-06-01 Central   Retail      Miscellaneous          8       16.85     \n",
       "2 2021-06-01 North     Retail      Breaking system        9       19.29     \n",
       "3 2021-06-01 North     Retail      Suspension & traction  8       32.93     \n",
       "4 2021-06-01 North     Wholesale   Frame & body          16       37.84     \n",
       "5 2021-06-01 Central   Retail      Engine                 2       60.48     \n",
       "6 2021-06-01 North     Wholesale   Suspension & traction 40       37.37     \n",
       "  total   payment    \n",
       "1  134.83 Credit card\n",
       "2  173.61 Cash       \n",
       "3  263.45 Credit card\n",
       "4  605.44 Transfer   \n",
       "5  120.96 Credit card\n",
       "6 1494.80 Transfer   "
      ]
     },
     "metadata": {},
     "output_type": "display_data"
    }
   ],
   "source": [
    "url = \"https://raw.githubusercontent.com/lulusAk/Datacamp-Reporting-on-Sales-Data/main/sales_data.csv\"\n",
    "df <- read.csv(url)\n",
    "head(df)"
   ]
  },
  {
   "cell_type": "code",
   "execution_count": 16,
   "metadata": {},
   "outputs": [
    {
     "name": "stdout",
     "output_type": "stream",
     "text": [
      "-- Data Summary ------------------------\n",
      "                           Values\n",
      "Name                       df    \n",
      "Number of rows             1000  \n",
      "Number of columns          8     \n",
      "_______________________          \n",
      "Column type frequency:           \n",
      "  character                5     \n",
      "  numeric                  3     \n",
      "________________________         \n",
      "Group variables            None  \n",
      "\n",
      "-- Variable type: character ----------------------------------------------------\n",
      "# A tibble: 5 x 8\n",
      "  skim_variable n_missing complete_rate   min   max empty n_unique whitespace\n",
      "* <chr>             <int>         <dbl> <int> <int> <int>    <int>      <int>\n",
      "1 date                  0             1    10    10     0       89          0\n",
      "2 warehouse             0             1     4     7     0        3          0\n",
      "3 client_type           0             1     6     9     0        2          0\n",
      "4 product_line          0             1     6    21     0        6          0\n",
      "5 payment               0             1     4    11     0        3          0\n",
      "\n",
      "-- Variable type: numeric ------------------------------------------------------\n",
      "# A tibble: 3 x 11\n",
      "  skim_variable n_missing complete_rate   mean     sd    p0   p25   p50   p75\n",
      "* <chr>             <int>         <dbl>  <dbl>  <dbl> <dbl> <dbl> <dbl> <dbl>\n",
      "1 quantity              0             1   9.40   9.66   1     4     6.5  10  \n",
      "2 unit_price            0             1  30.3   12.3   10.0  21.1  28.6  37.9\n",
      "3 total                 0             1 289.   345.    10.4  93.7 178.  322. \n",
      "    p100 hist \n",
      "*  <dbl> <chr>\n",
      "1   40   <U+2587><U+2582><U+2581><U+2581><U+2581>\n",
      "2   66.6 <U+2586><U+2587><U+2585><U+2582><U+2581>\n",
      "3 2546.  <U+2587><U+2581><U+2581><U+2581><U+2581>\n"
     ]
    }
   ],
   "source": [
    "skim(df)"
   ]
  },
  {
   "cell_type": "code",
   "execution_count": 17,
   "metadata": {},
   "outputs": [
    {
     "data": {
      "text/html": [
       "<table class=\"dataframe\">\n",
       "<caption>A data.frame: 6 × 8</caption>\n",
       "<thead>\n",
       "\t<tr><th></th><th scope=col>date</th><th scope=col>warehouse</th><th scope=col>client_type</th><th scope=col>product_line</th><th scope=col>quantity</th><th scope=col>unit_price</th><th scope=col>total</th><th scope=col>payment</th></tr>\n",
       "\t<tr><th></th><th scope=col>&lt;chr&gt;</th><th scope=col>&lt;chr&gt;</th><th scope=col>&lt;chr&gt;</th><th scope=col>&lt;chr&gt;</th><th scope=col>&lt;int&gt;</th><th scope=col>&lt;dbl&gt;</th><th scope=col>&lt;dbl&gt;</th><th scope=col>&lt;chr&gt;</th></tr>\n",
       "</thead>\n",
       "<tbody>\n",
       "\t<tr><th scope=row>1</th><td>2021-06-01</td><td>Central</td><td>Retail   </td><td>Miscellaneous        </td><td> 8</td><td>16.85</td><td> 134.83</td><td>Credit card</td></tr>\n",
       "\t<tr><th scope=row>2</th><td>2021-06-01</td><td>North  </td><td>Retail   </td><td>Breaking system      </td><td> 9</td><td>19.29</td><td> 173.61</td><td>Cash       </td></tr>\n",
       "\t<tr><th scope=row>3</th><td>2021-06-01</td><td><span style=white-space:pre-wrap>North  </span></td><td><span style=white-space:pre-wrap>Retail   </span></td><td>Suspension &amp; traction</td><td> 8</td><td>32.93</td><td> 263.45</td><td>Credit card</td></tr>\n",
       "\t<tr><th scope=row>4</th><td>2021-06-01</td><td><span style=white-space:pre-wrap>North  </span></td><td>Wholesale</td><td><span style=white-space:pre-wrap>Frame &amp; body         </span></td><td>16</td><td>37.84</td><td> 605.44</td><td><span style=white-space:pre-wrap>Transfer   </span></td></tr>\n",
       "\t<tr><th scope=row>5</th><td>2021-06-01</td><td>Central</td><td>Retail   </td><td>Engine               </td><td> 2</td><td>60.48</td><td> 120.96</td><td>Credit card</td></tr>\n",
       "\t<tr><th scope=row>6</th><td>2021-06-01</td><td><span style=white-space:pre-wrap>North  </span></td><td>Wholesale</td><td>Suspension &amp; traction</td><td>40</td><td>37.37</td><td>1494.80</td><td><span style=white-space:pre-wrap>Transfer   </span></td></tr>\n",
       "</tbody>\n",
       "</table>\n"
      ],
      "text/latex": [
       "A data.frame: 6 × 8\n",
       "\\begin{tabular}{r|llllllll}\n",
       "  & date & warehouse & client\\_type & product\\_line & quantity & unit\\_price & total & payment\\\\\n",
       "  & <chr> & <chr> & <chr> & <chr> & <int> & <dbl> & <dbl> & <chr>\\\\\n",
       "\\hline\n",
       "\t1 & 2021-06-01 & Central & Retail    & Miscellaneous         &  8 & 16.85 &  134.83 & Credit card\\\\\n",
       "\t2 & 2021-06-01 & North   & Retail    & Breaking system       &  9 & 19.29 &  173.61 & Cash       \\\\\n",
       "\t3 & 2021-06-01 & North   & Retail    & Suspension \\& traction &  8 & 32.93 &  263.45 & Credit card\\\\\n",
       "\t4 & 2021-06-01 & North   & Wholesale & Frame \\& body          & 16 & 37.84 &  605.44 & Transfer   \\\\\n",
       "\t5 & 2021-06-01 & Central & Retail    & Engine                &  2 & 60.48 &  120.96 & Credit card\\\\\n",
       "\t6 & 2021-06-01 & North   & Wholesale & Suspension \\& traction & 40 & 37.37 & 1494.80 & Transfer   \\\\\n",
       "\\end{tabular}\n"
      ],
      "text/markdown": [
       "\n",
       "A data.frame: 6 × 8\n",
       "\n",
       "| <!--/--> | date &lt;chr&gt; | warehouse &lt;chr&gt; | client_type &lt;chr&gt; | product_line &lt;chr&gt; | quantity &lt;int&gt; | unit_price &lt;dbl&gt; | total &lt;dbl&gt; | payment &lt;chr&gt; |\n",
       "|---|---|---|---|---|---|---|---|---|\n",
       "| 1 | 2021-06-01 | Central | Retail    | Miscellaneous         |  8 | 16.85 |  134.83 | Credit card |\n",
       "| 2 | 2021-06-01 | North   | Retail    | Breaking system       |  9 | 19.29 |  173.61 | Cash        |\n",
       "| 3 | 2021-06-01 | North   | Retail    | Suspension &amp; traction |  8 | 32.93 |  263.45 | Credit card |\n",
       "| 4 | 2021-06-01 | North   | Wholesale | Frame &amp; body          | 16 | 37.84 |  605.44 | Transfer    |\n",
       "| 5 | 2021-06-01 | Central | Retail    | Engine                |  2 | 60.48 |  120.96 | Credit card |\n",
       "| 6 | 2021-06-01 | North   | Wholesale | Suspension &amp; traction | 40 | 37.37 | 1494.80 | Transfer    |\n",
       "\n"
      ],
      "text/plain": [
       "  date       warehouse client_type product_line          quantity unit_price\n",
       "1 2021-06-01 Central   Retail      Miscellaneous          8       16.85     \n",
       "2 2021-06-01 North     Retail      Breaking system        9       19.29     \n",
       "3 2021-06-01 North     Retail      Suspension & traction  8       32.93     \n",
       "4 2021-06-01 North     Wholesale   Frame & body          16       37.84     \n",
       "5 2021-06-01 Central   Retail      Engine                 2       60.48     \n",
       "6 2021-06-01 North     Wholesale   Suspension & traction 40       37.37     \n",
       "  total   payment    \n",
       "1  134.83 Credit card\n",
       "2  173.61 Cash       \n",
       "3  263.45 Credit card\n",
       "4  605.44 Transfer   \n",
       "5  120.96 Credit card\n",
       "6 1494.80 Transfer   "
      ]
     },
     "metadata": {},
     "output_type": "display_data"
    }
   ],
   "source": [
    "head(df)"
   ]
  },
  {
   "cell_type": "markdown",
   "metadata": {},
   "source": [
    "## 1. What are the total sales for each payment method?"
   ]
  },
  {
   "cell_type": "code",
   "execution_count": 18,
   "metadata": {},
   "outputs": [],
   "source": [
    "by_payment<- group_by(df,payment)"
   ]
  },
  {
   "cell_type": "code",
   "execution_count": 19,
   "metadata": {},
   "outputs": [
    {
     "data": {
      "text/html": [
       "<table class=\"dataframe\">\n",
       "<caption>A tibble: 3 × 2</caption>\n",
       "<thead>\n",
       "\t<tr><th scope=col>payment</th><th scope=col>sum_total</th></tr>\n",
       "\t<tr><th scope=col>&lt;chr&gt;</th><th scope=col>&lt;dbl&gt;</th></tr>\n",
       "</thead>\n",
       "<tbody>\n",
       "\t<tr><td>Cash       </td><td> 19199.1</td></tr>\n",
       "\t<tr><td>Credit card</td><td>110271.6</td></tr>\n",
       "\t<tr><td>Transfer   </td><td>159642.3</td></tr>\n",
       "</tbody>\n",
       "</table>\n"
      ],
      "text/latex": [
       "A tibble: 3 × 2\n",
       "\\begin{tabular}{ll}\n",
       " payment & sum\\_total\\\\\n",
       " <chr> & <dbl>\\\\\n",
       "\\hline\n",
       "\t Cash        &  19199.1\\\\\n",
       "\t Credit card & 110271.6\\\\\n",
       "\t Transfer    & 159642.3\\\\\n",
       "\\end{tabular}\n"
      ],
      "text/markdown": [
       "\n",
       "A tibble: 3 × 2\n",
       "\n",
       "| payment &lt;chr&gt; | sum_total &lt;dbl&gt; |\n",
       "|---|---|\n",
       "| Cash        |  19199.1 |\n",
       "| Credit card | 110271.6 |\n",
       "| Transfer    | 159642.3 |\n",
       "\n"
      ],
      "text/plain": [
       "  payment     sum_total\n",
       "1 Cash         19199.1 \n",
       "2 Credit card 110271.6 \n",
       "3 Transfer    159642.3 "
      ]
     },
     "metadata": {},
     "output_type": "display_data"
    }
   ],
   "source": [
    "totalsales <- summarize(by_payment, sum_total= sum(total, na.rm=TRUE))\n",
    "totalsales"
   ]
  },
  {
   "cell_type": "markdown",
   "metadata": {},
   "source": [
    "Note 1:\n",
    "Total Sales for each payment method are ;\n",
    "Cash        : 19199.1\n",
    "Credit Card : 110271.6\n",
    "Transfer    : 159642.3"
   ]
  },
  {
   "cell_type": "markdown",
   "metadata": {},
   "source": [
    "## 2. What is the average unit price for each product line?"
   ]
  },
  {
   "cell_type": "code",
   "execution_count": 20,
   "metadata": {},
   "outputs": [],
   "source": [
    "by_prodline<- group_by(df,product_line)"
   ]
  },
  {
   "cell_type": "code",
   "execution_count": 21,
   "metadata": {},
   "outputs": [
    {
     "data": {
      "text/html": [
       "<table class=\"dataframe\">\n",
       "<caption>A tibble: 6 × 2</caption>\n",
       "<thead>\n",
       "\t<tr><th scope=col>product_line</th><th scope=col>mean_unit_price</th></tr>\n",
       "\t<tr><th scope=col>&lt;chr&gt;</th><th scope=col>&lt;dbl&gt;</th></tr>\n",
       "</thead>\n",
       "<tbody>\n",
       "\t<tr><td>Breaking system      </td><td>17.74052</td></tr>\n",
       "\t<tr><td>Electrical system    </td><td>25.58513</td></tr>\n",
       "\t<tr><td>Engine               </td><td>60.09180</td></tr>\n",
       "\t<tr><td><span style=white-space:pre-wrap>Frame &amp; body         </span></td><td>42.83223</td></tr>\n",
       "\t<tr><td>Miscellaneous        </td><td>22.81074</td></tr>\n",
       "\t<tr><td>Suspension &amp; traction</td><td>33.96987</td></tr>\n",
       "</tbody>\n",
       "</table>\n"
      ],
      "text/latex": [
       "A tibble: 6 × 2\n",
       "\\begin{tabular}{ll}\n",
       " product\\_line & mean\\_unit\\_price\\\\\n",
       " <chr> & <dbl>\\\\\n",
       "\\hline\n",
       "\t Breaking system       & 17.74052\\\\\n",
       "\t Electrical system     & 25.58513\\\\\n",
       "\t Engine                & 60.09180\\\\\n",
       "\t Frame \\& body          & 42.83223\\\\\n",
       "\t Miscellaneous         & 22.81074\\\\\n",
       "\t Suspension \\& traction & 33.96987\\\\\n",
       "\\end{tabular}\n"
      ],
      "text/markdown": [
       "\n",
       "A tibble: 6 × 2\n",
       "\n",
       "| product_line &lt;chr&gt; | mean_unit_price &lt;dbl&gt; |\n",
       "|---|---|\n",
       "| Breaking system       | 17.74052 |\n",
       "| Electrical system     | 25.58513 |\n",
       "| Engine                | 60.09180 |\n",
       "| Frame &amp; body          | 42.83223 |\n",
       "| Miscellaneous         | 22.81074 |\n",
       "| Suspension &amp; traction | 33.96987 |\n",
       "\n"
      ],
      "text/plain": [
       "  product_line          mean_unit_price\n",
       "1 Breaking system       17.74052       \n",
       "2 Electrical system     25.58513       \n",
       "3 Engine                60.09180       \n",
       "4 Frame & body          42.83223       \n",
       "5 Miscellaneous         22.81074       \n",
       "6 Suspension & traction 33.96987       "
      ]
     },
     "metadata": {},
     "output_type": "display_data"
    }
   ],
   "source": [
    "avg_prodline <- summarize(by_prodline, mean_unit_price = mean(unit_price))\n",
    "avg_prodline"
   ]
  },
  {
   "cell_type": "markdown",
   "metadata": {},
   "source": [
    "Note 2:\n",
    "The Average unit price for each product line are;\n",
    "Breaking system\t      17.74052\t\t\n",
    "Electrical system\t    25.58513\t\t\n",
    "Engine\t              60.09180\t\t\n",
    "Frame & body\t        42.83223\t\t\n",
    "Miscellaneous\t        22.81074\t\t\n",
    "Suspension & traction\t33.96987\t"
   ]
  },
  {
   "cell_type": "markdown",
   "metadata": {},
   "source": [
    "## 3. Create plots to visualize findings for questions 1 and 2."
   ]
  },
  {
   "cell_type": "markdown",
   "metadata": {},
   "source": [
    "### Total Sales by Payment Methode"
   ]
  },
  {
   "cell_type": "code",
   "execution_count": 22,
   "metadata": {},
   "outputs": [
    {
     "data": {
      "image/png": "[encoded data removed]",
      "text/plain": [
       "plot without title"
      ]
     },
     "metadata": {
      "image/png": {
       "height": 420,
       "width": 420
      }
     },
     "output_type": "display_data"
    }
   ],
   "source": [
    "ggplot(totalsales) +\n",
    "  aes(x = reorder(payment,-sum_total), weight = sum_total) +\n",
    "  geom_bar(fill = \"#4682B4\") +\n",
    "  labs(\n",
    "    x = \"Payment Methode\",\n",
    "    y = \"Total Sales\",\n",
    "    subtitle = \"Total Sales By Payment Methode\"\n",
    "  ) +\n",
    "  theme_linedraw() +\n",
    "  theme(\n",
    "    plot.subtitle = element_text(size = 14L,\n",
    "    face = \"bold\",\n",
    "    hjust = 0.5),\n",
    "    axis.title.y = element_text(size = 12L),\n",
    "    axis.title.x = element_text(size = 12L)\n",
    "  )"
   ]
  },
  {
   "cell_type": "markdown",
   "metadata": {},
   "source": [
    "Note ;\n",
    "We found that sales transactions done frequently by transfer methode. "
   ]
  },
  {
   "cell_type": "markdown",
   "metadata": {},
   "source": [
    "### Product Line Average Unit Price"
   ]
  },
  {
   "cell_type": "code",
   "execution_count": 23,
   "metadata": {},
   "outputs": [
    {
     "data": {
      "image/png": "[encoded data removed]",
      "text/plain": [
       "plot without title"
      ]
     },
     "metadata": {
      "image/png": {
       "height": 420,
       "width": 420
      }
     },
     "output_type": "display_data"
    }
   ],
   "source": [
    "ggplot(avg_prodline) +\n",
    "  aes(x = reorder(product_line,-mean_unit_price), weight = mean_unit_price, fill = product_line) +\n",
    "  geom_bar() +\n",
    "  labs(\n",
    "    x = \"Product Line\",\n",
    "    y = \"Mean of Unit Price\",\n",
    "    subtitle = \"Average Unit Price by Product Line\"\n",
    "  ) +\n",
    "  theme_minimal() +\n",
    "  theme(\n",
    "    plot.subtitle = element_text(size = 14L,\n",
    "    hjust = 0.5),\n",
    "    axis.title.y = element_text(size = 12L),\n",
    "    axis.title.x = element_text(size = 12L)\n",
    "  )"
   ]
  },
  {
   "cell_type": "markdown",
   "metadata": {},
   "source": [
    "Note 3:\n",
    "We found that Engine Category has the highest Average Unit Price"
   ]
  },
  {
   "cell_type": "markdown",
   "metadata": {},
   "source": [
    "## 4. [Optional] Investigate further (e.g., average purchase value by client type, total purchase value by product line, etc.)"
   ]
  },
  {
   "cell_type": "code",
   "execution_count": 24,
   "metadata": {},
   "outputs": [],
   "source": [
    "by_client_type <- group_by(df,client_type)"
   ]
  },
  {
   "cell_type": "code",
   "execution_count": 25,
   "metadata": {},
   "outputs": [
    {
     "data": {
      "text/html": [
       "<table class=\"dataframe\">\n",
       "<caption>A tibble: 2 × 2</caption>\n",
       "<thead>\n",
       "\t<tr><th scope=col>client_type</th><th scope=col>mean_sales</th></tr>\n",
       "\t<tr><th scope=col>&lt;chr&gt;</th><th scope=col>&lt;dbl&gt;</th></tr>\n",
       "</thead>\n",
       "<tbody>\n",
       "\t<tr><td>Retail   </td><td>167.0589</td></tr>\n",
       "\t<tr><td>Wholesale</td><td>709.5215</td></tr>\n",
       "</tbody>\n",
       "</table>\n"
      ],
      "text/latex": [
       "A tibble: 2 × 2\n",
       "\\begin{tabular}{ll}\n",
       " client\\_type & mean\\_sales\\\\\n",
       " <chr> & <dbl>\\\\\n",
       "\\hline\n",
       "\t Retail    & 167.0589\\\\\n",
       "\t Wholesale & 709.5215\\\\\n",
       "\\end{tabular}\n"
      ],
      "text/markdown": [
       "\n",
       "A tibble: 2 × 2\n",
       "\n",
       "| client_type &lt;chr&gt; | mean_sales &lt;dbl&gt; |\n",
       "|---|---|\n",
       "| Retail    | 167.0589 |\n",
       "| Wholesale | 709.5215 |\n",
       "\n"
      ],
      "text/plain": [
       "  client_type mean_sales\n",
       "1 Retail      167.0589  \n",
       "2 Wholesale   709.5215  "
      ]
     },
     "metadata": {},
     "output_type": "display_data"
    }
   ],
   "source": [
    "client <- summarize(by_client_type, mean_sales = mean(total))\n",
    "client"
   ]
  },
  {
   "cell_type": "markdown",
   "metadata": {},
   "source": [
    "Note:\n",
    "We found that Wholesale has high average purchase by Client Type"
   ]
  },
  {
   "cell_type": "code",
   "execution_count": 26,
   "metadata": {},
   "outputs": [
    {
     "data": {
      "image/png": "[encoded data removed]",
      "text/plain": [
       "plot without title"
      ]
     },
     "metadata": {
      "image/png": {
       "height": 420,
       "width": 420
      }
     },
     "output_type": "display_data"
    }
   ],
   "source": [
    "ggplot(client) +\n",
    "  aes(x = reorder(client_type,-mean_sales), weight = mean_sales) +\n",
    "  geom_bar(fill = \"#4682B4\") +\n",
    "  labs(\n",
    "    x = \"Client Type\",\n",
    "    y = \"Average Sales\",\n",
    "    subtitle = \"Mean Sales by Client Type\"\n",
    "  ) +\n",
    "  theme_minimal() +\n",
    "  theme(\n",
    "    plot.subtitle = element_text(size = 14L,\n",
    "    face = \"bold\"),\n",
    "    axis.title.y = element_text(size = 12L),\n",
    "    axis.title.x = element_text(size = 12L)\n",
    "  )"
   ]
  },
  {
   "cell_type": "markdown",
   "metadata": {},
   "source": [
    "### Total Sales by Product Line"
   ]
  },
  {
   "cell_type": "code",
   "execution_count": 27,
   "metadata": {},
   "outputs": [],
   "source": [
    "productline<- group_by(df, product_line)"
   ]
  },
  {
   "cell_type": "code",
   "execution_count": 28,
   "metadata": {},
   "outputs": [
    {
     "data": {
      "text/html": [
       "<table class=\"dataframe\">\n",
       "<caption>A tibble: 6 × 2</caption>\n",
       "<thead>\n",
       "\t<tr><th scope=col>product_line</th><th scope=col>sumtotal</th></tr>\n",
       "\t<tr><th scope=col>&lt;chr&gt;</th><th scope=col>&lt;dbl&gt;</th></tr>\n",
       "</thead>\n",
       "<tbody>\n",
       "\t<tr><td>Breaking system      </td><td>38350.15</td></tr>\n",
       "\t<tr><td>Electrical system    </td><td>43612.71</td></tr>\n",
       "\t<tr><td>Engine               </td><td>37945.38</td></tr>\n",
       "\t<tr><td><span style=white-space:pre-wrap>Frame &amp; body         </span></td><td>69024.73</td></tr>\n",
       "\t<tr><td>Miscellaneous        </td><td>27165.82</td></tr>\n",
       "\t<tr><td>Suspension &amp; traction</td><td>73014.21</td></tr>\n",
       "</tbody>\n",
       "</table>\n"
      ],
      "text/latex": [
       "A tibble: 6 × 2\n",
       "\\begin{tabular}{ll}\n",
       " product\\_line & sumtotal\\\\\n",
       " <chr> & <dbl>\\\\\n",
       "\\hline\n",
       "\t Breaking system       & 38350.15\\\\\n",
       "\t Electrical system     & 43612.71\\\\\n",
       "\t Engine                & 37945.38\\\\\n",
       "\t Frame \\& body          & 69024.73\\\\\n",
       "\t Miscellaneous         & 27165.82\\\\\n",
       "\t Suspension \\& traction & 73014.21\\\\\n",
       "\\end{tabular}\n"
      ],
      "text/markdown": [
       "\n",
       "A tibble: 6 × 2\n",
       "\n",
       "| product_line &lt;chr&gt; | sumtotal &lt;dbl&gt; |\n",
       "|---|---|\n",
       "| Breaking system       | 38350.15 |\n",
       "| Electrical system     | 43612.71 |\n",
       "| Engine                | 37945.38 |\n",
       "| Frame &amp; body          | 69024.73 |\n",
       "| Miscellaneous         | 27165.82 |\n",
       "| Suspension &amp; traction | 73014.21 |\n",
       "\n"
      ],
      "text/plain": [
       "  product_line          sumtotal\n",
       "1 Breaking system       38350.15\n",
       "2 Electrical system     43612.71\n",
       "3 Engine                37945.38\n",
       "4 Frame & body          69024.73\n",
       "5 Miscellaneous         27165.82\n",
       "6 Suspension & traction 73014.21"
      ]
     },
     "metadata": {},
     "output_type": "display_data"
    }
   ],
   "source": [
    "prod_total<- summarize(productline, sumtotal = sum(total))\n",
    "prod_total"
   ]
  },
  {
   "cell_type": "code",
   "execution_count": 29,
   "metadata": {},
   "outputs": [
    {
     "data": {
      "image/png": "[encoded data removed]",
      "text/plain": [
       "plot without title"
      ]
     },
     "metadata": {
      "image/png": {
       "height": 420,
       "width": 420
      }
     },
     "output_type": "display_data"
    }
   ],
   "source": [
    "ggplot(prod_total) +\n",
    "  aes(x=reorder(product_line,-sumtotal), weight = sumtotal) +\n",
    "  geom_bar(fill = \"#4682B4\") +\n",
    "  labs(\n",
    "    x = \"Product Line\",\n",
    "    y = \"Total Ssles\",\n",
    "    subtitle = \"Total Sales by Product Line\"\n",
    "  ) +\n",
    "  theme_minimal() +\n",
    "  theme(\n",
    "    plot.subtitle = element_text(size = 14L,\n",
    "    face = \"bold\",\n",
    "    hjust = 0.5),\n",
    "    axis.title.y = element_text(size = 12L),\n",
    "    axis.title.x = element_text(size = 12L)\n",
    "  )"
   ]
  },
  {
   "cell_type": "markdown",
   "metadata": {},
   "source": [
    "Note 5:\n",
    "We found that Suspension & Traction category has the highest total sales on Product Line"
   ]
  },
  {
   "cell_type": "markdown",
   "metadata": {},
   "source": [
    "## 5. Summarize your findings."
   ]
  },
  {
   "cell_type": "markdown",
   "metadata": {},
   "source": [
    "We found some facts through our analysis process, here are the summary of our findings:\n",
    "1)  Total Sales for each payment method are ;\n",
    "Cash        : 19199.1\n",
    "Credit Card : 110271.6\n",
    "Transfer    : 159642.3\n",
    "\n",
    "2)    The Average unit price for each product line are;\n",
    "Breaking system\t      17.74052\t\t\n",
    "Electrical system\t    25.58513\t\t\n",
    "Engine\t              60.09180\t\t\n",
    "Frame & body\t        42.83223\t\t\n",
    "Miscellaneous\t        22.81074\t\t\n",
    "Suspension & traction\t33.96987\t\n",
    "\n",
    "3) We found that Engine Category has the highest Average Unit Price\n",
    "\n",
    "4) We found that Wholesale has high average purchase by Client Type\n",
    "\n",
    "5) We found that Suspension & Traction category has the highest total sales on Product Line"
   ]
  }
 ],
 "metadata": {
  "kernelspec": {
   "display_name": "R",
   "language": "R",
   "name": "ir"
  },
  "language_info": {
   "codemirror_mode": "r",
   "file_extension": ".r",
   "mimetype": "text/x-r-source",
   "name": "R",
   "pygments_lexer": "r",
   "version": "4.1.2"
  },
  "orig_nbformat": 4
 },
 "nbformat": 4,
 "nbformat_minor": 2
}
