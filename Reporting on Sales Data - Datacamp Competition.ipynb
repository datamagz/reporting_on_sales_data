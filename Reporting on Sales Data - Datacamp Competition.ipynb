{
 "cells": [
  {
   "cell_type": "markdown",
   "metadata": {},
   "source": [
    "# Competition - Reporting on Sales Data"
   ]
  },
  {
   "cell_type": "markdown",
   "metadata": {},
   "source": [
    "## 0. Load Library"
   ]
  },
  {
   "cell_type": "code",
   "execution_count": null,
   "metadata": {},
   "outputs": [],
   "source": [
    "library(tidyverse)\n",
    "library(skimr)"
   ]
  },
  {
   "cell_type": "code",
   "execution_count": null,
   "metadata": {},
   "outputs": [],
   "source": [
    "df <- sales_data"
   ]
  },
  {
   "cell_type": "code",
   "execution_count": null,
   "metadata": {},
   "outputs": [],
   "source": [
    "skim(df)"
   ]
  },
  {
   "cell_type": "code",
   "execution_count": null,
   "metadata": {},
   "outputs": [],
   "source": [
    "head(df)"
   ]
  },
  {
   "cell_type": "markdown",
   "metadata": {},
   "source": [
    "## 1. What are the total sales for each payment method?"
   ]
  },
  {
   "cell_type": "code",
   "execution_count": null,
   "metadata": {},
   "outputs": [],
   "source": [
    "by_payment<- group_by(df,payment)"
   ]
  },
  {
   "cell_type": "code",
   "execution_count": null,
   "metadata": {},
   "outputs": [],
   "source": [
    "totalsales <- summarize(by_payment, sum_total= sum(total, na.rm=TRUE))\n",
    "totalsales"
   ]
  },
  {
   "cell_type": "markdown",
   "metadata": {},
   "source": [
    "Note 1:\n",
    "Total Sales for each payment method are ;\n",
    "Cash        : 19199.1\n",
    "Credit Card : 110271.6\n",
    "Transfer    : 159642.3"
   ]
  },
  {
   "cell_type": "markdown",
   "metadata": {},
   "source": [
    "## 2. What is the average unit price for each product line?"
   ]
  },
  {
   "cell_type": "code",
   "execution_count": null,
   "metadata": {},
   "outputs": [],
   "source": [
    "by_prodline<- group_by(df,product_line)"
   ]
  },
  {
   "cell_type": "code",
   "execution_count": null,
   "metadata": {},
   "outputs": [],
   "source": [
    "avg_prodline <- summarize(by_prodline, mean_unit_price = mean(unit_price))\n",
    "avg_prodline"
   ]
  },
  {
   "cell_type": "markdown",
   "metadata": {},
   "source": [
    "Note 2:\n",
    "The Average unit price for each product line are;\n",
    "Breaking system\t      17.74052\t\t\n",
    "Electrical system\t    25.58513\t\t\n",
    "Engine\t              60.09180\t\t\n",
    "Frame & body\t        42.83223\t\t\n",
    "Miscellaneous\t        22.81074\t\t\n",
    "Suspension & traction\t33.96987\t"
   ]
  },
  {
   "cell_type": "markdown",
   "metadata": {},
   "source": [
    "## 3. Create plots to visualize findings for questions 1 and 2."
   ]
  },
  {
   "cell_type": "markdown",
   "metadata": {},
   "source": [
    "### Total Sales by Payment Methode"
   ]
  },
  {
   "cell_type": "code",
   "execution_count": null,
   "metadata": {},
   "outputs": [],
   "source": [
    "ggplot(totalsales) +\n",
    "  aes(x = reorder(payment,-sum_total), weight = sum_total) +\n",
    "  geom_bar(fill = \"#4682B4\") +\n",
    "  labs(\n",
    "    x = \"Payment Methode\",\n",
    "    y = \"Total Sales\",\n",
    "    subtitle = \"Total Sales By Payment Methode\"\n",
    "  ) +\n",
    "  theme_linedraw() +\n",
    "  theme(\n",
    "    plot.subtitle = element_text(size = 14L,\n",
    "    face = \"bold\",\n",
    "    hjust = 0.5),\n",
    "    axis.title.y = element_text(size = 12L),\n",
    "    axis.title.x = element_text(size = 12L)\n",
    "  )"
   ]
  },
  {
   "cell_type": "markdown",
   "metadata": {},
   "source": [
    "Note ;\n",
    "We found that sales transactions done frequently by transfer methode. "
   ]
  },
  {
   "cell_type": "markdown",
   "metadata": {},
   "source": [
    "### Product Line Average Unit Price"
   ]
  },
  {
   "cell_type": "code",
   "execution_count": null,
   "metadata": {},
   "outputs": [],
   "source": [
    "ggplot(avg_prodline) +\n",
    "  aes(x = reorder(product_line,-mean_unit_price), weight = mean_unit_price, fill = product_line) +\n",
    "  geom_bar() +\n",
    "  labs(\n",
    "    x = \"Product Line\",\n",
    "    y = \"Mean of Unit Price\",\n",
    "    subtitle = \"Average Unit Price by Product Line\"\n",
    "  ) +\n",
    "  theme_minimal() +\n",
    "  theme(\n",
    "    plot.subtitle = element_text(size = 14L,\n",
    "    hjust = 0.5),\n",
    "    axis.title.y = element_text(size = 12L),\n",
    "    axis.title.x = element_text(size = 12L)\n",
    "  )"
   ]
  },
  {
   "cell_type": "markdown",
   "metadata": {},
   "source": [
    "Note 3:\n",
    "We found that Engine Category has the highest Average Unit Price"
   ]
  },
  {
   "cell_type": "markdown",
   "metadata": {},
   "source": [
    "## 4. [Optional] Investigate further (e.g., average purchase value by client type, total purchase value by product line, etc.)"
   ]
  },
  {
   "cell_type": "code",
   "execution_count": null,
   "metadata": {},
   "outputs": [],
   "source": [
    "by_client_type <- group_by(df,client_type)"
   ]
  },
  {
   "cell_type": "code",
   "execution_count": null,
   "metadata": {},
   "outputs": [],
   "source": [
    "client <- summarize(by_client_type, mean_sales = mean(total))\n",
    "client"
   ]
  },
  {
   "cell_type": "markdown",
   "metadata": {},
   "source": [
    "Note:\n",
    "We found that Wholesale has high average purchase by Client Type"
   ]
  },
  {
   "cell_type": "code",
   "execution_count": null,
   "metadata": {},
   "outputs": [],
   "source": [
    "ggplot(client) +\n",
    "  aes(x = reorder(client_type,-mean_sales), weight = mean_sales) +\n",
    "  geom_bar(fill = \"#4682B4\") +\n",
    "  labs(\n",
    "    x = \"Client Type\",\n",
    "    y = \"Average Sales\",\n",
    "    subtitle = \"Mean Sales by Client Type\"\n",
    "  ) +\n",
    "  theme_minimal() +\n",
    "  theme(\n",
    "    plot.subtitle = element_text(size = 14L,\n",
    "    face = \"bold\"),\n",
    "    axis.title.y = element_text(size = 12L),\n",
    "    axis.title.x = element_text(size = 12L)\n",
    "  )"
   ]
  },
  {
   "cell_type": "markdown",
   "metadata": {},
   "source": [
    "### Total Sales by Product Line"
   ]
  },
  {
   "cell_type": "code",
   "execution_count": null,
   "metadata": {},
   "outputs": [],
   "source": [
    "productline<- group_by(df, product_line)"
   ]
  },
  {
   "cell_type": "code",
   "execution_count": null,
   "metadata": {},
   "outputs": [],
   "source": [
    "prod_total<- summarize(productline, sumtotal = sum(total))\n",
    "prod_total"
   ]
  },
  {
   "cell_type": "code",
   "execution_count": null,
   "metadata": {},
   "outputs": [],
   "source": [
    "ggplot(prod_total) +\n",
    "  aes(x=reorder(product_line,-sumtotal), weight = sumtotal) +\n",
    "  geom_bar(fill = \"#4682B4\") +\n",
    "  labs(\n",
    "    x = \"Product Line\",\n",
    "    y = \"Total Ssles\",\n",
    "    subtitle = \"Total Sales by Product Line\"\n",
    "  ) +\n",
    "  theme_minimal() +\n",
    "  theme(\n",
    "    plot.subtitle = element_text(size = 14L,\n",
    "    face = \"bold\",\n",
    "    hjust = 0.5),\n",
    "    axis.title.y = element_text(size = 12L),\n",
    "    axis.title.x = element_text(size = 12L)\n",
    "  )"
   ]
  },
  {
   "cell_type": "markdown",
   "metadata": {},
   "source": [
    "Note 5:\n",
    "We found that Suspension & Traction category has the highest total sales on Product Line"
   ]
  },
  {
   "cell_type": "markdown",
   "metadata": {},
   "source": [
    "## 5. Summarize your findings."
   ]
  },
  {
   "cell_type": "markdown",
   "metadata": {},
   "source": [
    "We found some facts through our analysis process, here are the summary of our findings:\n",
    "1)  Total Sales for each payment method are ;\n",
    "Cash        : 19199.1\n",
    "Credit Card : 110271.6\n",
    "Transfer    : 159642.3\n",
    "\n",
    "2)    The Average unit price for each product line are;\n",
    "Breaking system\t      17.74052\t\t\n",
    "Electrical system\t    25.58513\t\t\n",
    "Engine\t              60.09180\t\t\n",
    "Frame & body\t        42.83223\t\t\n",
    "Miscellaneous\t        22.81074\t\t\n",
    "Suspension & traction\t33.96987\t\n",
    "\n",
    "3) We found that Engine Category has the highest Average Unit Price\n",
    "\n",
    "4) We found that Wholesale has high average purchase by Client Type\n",
    "\n",
    "5) We found that Suspension & Traction category has the highest total sales on Product Line"
   ]
  }
 ],
 "metadata": {
  "kernelspec": {
   "display_name": "R",
   "language": "R",
   "name": "ir"
  },
  "language_info": {
   "name": "R"
  },
  "orig_nbformat": 4
 },
 "nbformat": 4,
 "nbformat_minor": 2
}
